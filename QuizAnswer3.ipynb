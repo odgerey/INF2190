{
 "cells": [
  {
   "cell_type": "code",
   "execution_count": null,
   "metadata": {},
   "outputs": [],
   "source": []
  },
  {
   "cell_type": "markdown",
   "metadata": {},
   "source": [
    "# Quiz Answers Week 3\n",
    "\n",
    "1. False\n",
    "2. True \n",
    "3. True\n",
    "4. Discrete probability distribution = probability mass function    GOT THIS WRONG\n",
    "= probability density function\n",
    "5. Product rule for in events P(a and B) = P(A) * P(B)\n",
    "General Product P(A and B) P(A|B) * P(B)\n",
    "Additional rule for disjoint events P(A or B) = P(A) + P(B)\n",
    "General addition non disjoint P(A or B) = P(A) + P(B) - \n",
    "\n",
    "7.  Posterior, Prior, Likelihood, Marginal\n"
   ]
  }
 ],
 "metadata": {
  "language_info": {
   "name": "python"
  },
  "orig_nbformat": 4
 },
 "nbformat": 4,
 "nbformat_minor": 2
}
